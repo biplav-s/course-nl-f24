{
 "cells": [
  {
   "cell_type": "code",
   "execution_count": 1,
   "id": "bb608ff5",
   "metadata": {},
   "outputs": [],
   "source": [
    "# Based on examples at: \n",
    "#   - https://realpython.com/natural-language-processing-spacy-python/\n",
    "#   - https://github.com/shohrehhd/Practical-NLP-notebooks/blob/master/Practical_7_Information_Extraction.ipynb\n"
   ]
  },
  {
   "cell_type": "code",
   "execution_count": 2,
   "id": "839d9e7d",
   "metadata": {},
   "outputs": [],
   "source": [
    "# Do imports\n",
    "import spacy"
   ]
  },
  {
   "cell_type": "code",
   "execution_count": 3,
   "id": "666dda80",
   "metadata": {},
   "outputs": [],
   "source": [
    "## Download the small core model; others are medium and large\n",
    "#!python -m spacy download en_core_web_sm"
   ]
  },
  {
   "cell_type": "code",
   "execution_count": 4,
   "id": "cc840365",
   "metadata": {},
   "outputs": [],
   "source": [
    "import en_core_web_sm"
   ]
  },
  {
   "cell_type": "code",
   "execution_count": 5,
   "id": "d66c83ea",
   "metadata": {},
   "outputs": [],
   "source": [
    "# Load small model\n",
    "nlp = spacy.load('en_core_web_sm')"
   ]
  },
  {
   "cell_type": "code",
   "execution_count": 6,
   "id": "b2895920",
   "metadata": {},
   "outputs": [],
   "source": [
    "# Get a ner object\n",
    "doc_ner = nlp(\"The morning flight from Denver has arrived.\")"
   ]
  },
  {
   "cell_type": "code",
   "execution_count": 7,
   "id": "2ed50898",
   "metadata": {},
   "outputs": [
    {
     "name": "stdout",
     "output_type": "stream",
     "text": [
      "The O\n",
      "morning B-TIM\n",
      "flight O\n",
      "from O\n",
      "Denver B-GPE\n",
      "has O\n",
      "arrived O\n",
      ". O\n"
     ]
    }
   ],
   "source": [
    "for token in doc_ner:\n",
    "    if(token.ent_iob_!=\"O\"):\n",
    "        print(token.text,str(token.ent_iob_)+\"-\"+str(token.ent_type_[:3]))\n",
    "    else:\n",
    "        print(token.text,token.ent_iob_)"
   ]
  },
  {
   "cell_type": "code",
   "execution_count": 8,
   "id": "4f81b923",
   "metadata": {},
   "outputs": [],
   "source": [
    "# Get a ner object\n",
    "doc_ner = nlp(\"In 2019, I went to Luxembourg and bought an apartment for 35 million euro near Red River.\")"
   ]
  },
  {
   "cell_type": "code",
   "execution_count": 9,
   "id": "2fa0b898",
   "metadata": {},
   "outputs": [
    {
     "name": "stdout",
     "output_type": "stream",
     "text": [
      "In O\n",
      "2019 B-DAT\n",
      ", O\n",
      "I O\n",
      "went O\n",
      "to O\n",
      "Luxembourg B-GPE\n",
      "and O\n",
      "bought O\n",
      "an O\n",
      "apartment O\n",
      "for O\n",
      "35 B-QUA\n",
      "million I-QUA\n",
      "euro I-QUA\n",
      "near O\n",
      "Red B-LOC\n",
      "River I-LOC\n",
      ". O\n"
     ]
    }
   ],
   "source": [
    "for token in doc_ner:\n",
    "    if(token.ent_iob_!=\"O\"):\n",
    "        print(token.text,str(token.ent_iob_)+\"-\"+str(token.ent_type_[:3]))\n",
    "    else:\n",
    "        print(token.text,token.ent_iob_)"
   ]
  },
  {
   "cell_type": "code",
   "execution_count": null,
   "id": "a98de4df",
   "metadata": {},
   "outputs": [],
   "source": []
  }
 ],
 "metadata": {
  "kernelspec": {
   "display_name": "Python 3",
   "language": "python",
   "name": "python3"
  },
  "language_info": {
   "codemirror_mode": {
    "name": "ipython",
    "version": 3
   },
   "file_extension": ".py",
   "mimetype": "text/x-python",
   "name": "python",
   "nbconvert_exporter": "python",
   "pygments_lexer": "ipython3",
   "version": "3.7.6"
  }
 },
 "nbformat": 4,
 "nbformat_minor": 5
}
